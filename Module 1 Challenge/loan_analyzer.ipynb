{
 "cells": [
  {
   "cell_type": "code",
   "execution_count": 1,
   "metadata": {},
   "outputs": [],
   "source": [
    "loan_costs = [500, 600, 200, 1000, 450]"
   ]
  },
  {
   "cell_type": "code",
   "execution_count": 2,
   "metadata": {},
   "outputs": [
    {
     "name": "stdout",
     "output_type": "stream",
     "text": [
      "There are 5 number of loans.\n"
     ]
    }
   ],
   "source": [
    "number_of_loans = len(loan_costs)\n",
    "print(f\"There are {number_of_loans} number of loans.\")"
   ]
  },
  {
   "cell_type": "code",
   "execution_count": 3,
   "metadata": {},
   "outputs": [
    {
     "name": "stdout",
     "output_type": "stream",
     "text": [
      "The total of all loans is 2750\n"
     ]
    }
   ],
   "source": [
    "sum_of_loans = sum(loan_costs)\n",
    "print(f\"The total of all loans is {sum_of_loans}\")"
   ]
  },
  {
   "cell_type": "code",
   "execution_count": 4,
   "metadata": {},
   "outputs": [
    {
     "name": "stdout",
     "output_type": "stream",
     "text": [
      "The Average loan amount is 550.0\n"
     ]
    }
   ],
   "source": [
    "average_loan_price = (sum_of_loans / number_of_loans)\n",
    "print(f\"The Average loan amount is {average_loan_price}\")"
   ]
  },
  {
   "cell_type": "code",
   "execution_count": 5,
   "metadata": {},
   "outputs": [
    {
     "name": "stdout",
     "output_type": "stream",
     "text": [
      "1000\n",
      "9\n",
      "Fair Value is  861.77\n",
      "The Loan is worth buying\n"
     ]
    }
   ],
   "source": [
    "loan = {\n",
    "    \"loan_price\": 500,\n",
    "    \"remaining_months\": 9,\n",
    "    \"repayment_interval\": \"bullet\",\n",
    "    \"future_value\": 1000,\n",
    "}\n",
    "\n",
    "\n",
    "# @TODO: Use get() on the dictionary of additional information to extract the Future Value and Remaining Months on the loan.\n",
    "# Print each variable.\n",
    "# future_value= 1000\n",
    "# remaining_months = 9\n",
    "# discount_rate = .20\n",
    "x = loan.get(\"future_value\")\n",
    "y = loan.get(\"remaining_months\")\n",
    "future_value = x\n",
    "remaining_months = y\n",
    "print(x)\n",
    "print(y)\n",
    "\n",
    "# @TODO: Use the formula for Present Value to calculate a \"fair value\" of the loan.\n",
    "# Use a minimum required return of 20% as the discount rate.\n",
    "#   You'll want to use the **monthly** version of the present value formula.\n",
    "#   HINT: Present Value = Future Value / (1 + Discount_Rate/12) ** remaining_months\n",
    "discount_rate = .20\n",
    "present_value = x / (1 + discount_rate/12) **y\n",
    "print(f\"Fair Value is {present_value: .2f}\")\n",
    "\n",
    "# If Present Value represents what the loan is really worth, does it make sense to buy the loan at its cost?\n",
    "# @TODO: Write a conditional statement (an if-else statement) to decide if the present value represents the loan's fair value.\n",
    "#    If the present value of the loan is greater than or equal to the cost, then print a message that says the loan is worth at least the cost to buy it.\n",
    "#    Else, the present value of the loan is less than the loan cost, then print a message that says that the loan is too expensive and not worth the price.\n",
    "if present_value > loan.get(\"loan_price\"):\n",
    "    print(\"The Loan is worth buying\")\n",
    "else:\n",
    "    print(\"The Loan is not worth the price\")"
   ]
  },
  {
   "cell_type": "code",
   "execution_count": 6,
   "metadata": {},
   "outputs": [
    {
     "name": "stdout",
     "output_type": "stream",
     "text": [
      "pv 870.5505632961241\n",
      "The present value of the new loan is:  870.55\n"
     ]
    }
   ],
   "source": [
    "new_loan = {\n",
    "    \"loan_price\": 800,\n",
    "    \"remaining_months\": 12,\n",
    "    \"repayment_interval\": \"bullet\",\n",
    "    \"future_value\": 1000,\n",
    "}\n",
    "\n",
    "# @TODO: Define a new function that will be used to calculate present value.\n",
    "#    This function should include parameters for `future_value`, `remaining_months`, and the `annual_discount_rate`\n",
    "#    The function should return the `present_value` for the loan.\n",
    "\n",
    "def calculate_present_value(future_value, remaining_months, annual_discount_rate):\n",
    "    present_value = future_value / (1 + (annual_discount_rate/12)) **remaining_months\n",
    "    print(\"pv\", present_value)\n",
    "    return present_value\n",
    "\n",
    "    # @TODO: Use the function to calculate the present value of the new loan given below.\n",
    "#    Use an `annual_discount_rate` of 0.2 for this new loan calculation.\n",
    "# YOUR CODE HERE!\n",
    "annual_discount_rate = .2\n",
    "Cost_of_new_loan=calculate_present_value(new_loan[\"future_value\"], annual_discount_rate ,new_loan[\"remaining_months\"])\n",
    "print(f\"The present value of the new loan is: {Cost_of_new_loan: .2f}\")\n"
   ]
  },
  {
   "cell_type": "code",
   "execution_count": 2,
   "metadata": {},
   "outputs": [
    {
     "name": "stdout",
     "output_type": "stream",
     "text": [
      "The list is:  [{'loan_price': 500, 'remaining_months': 13, 'repayment_interval': 'bullet', 'future_value': 1000}, {'loan_price': 200, 'remaining_months': 16, 'repayment_interval': 'bullet', 'future_value': 1000}]\n"
     ]
    }
   ],
   "source": [
    "\n",
    "\"\"\"Part 4: Conditionally filter lists of loans.\n",
    "\n",
    "In this section, you will use a loop to iterate through a series of loans and select only the inexpensive loans.\n",
    "\n",
    "1. Create a new, empty list called `inexpensive_loans`.\n",
    "2. Use a for loop to select each loan from a list of loans.\n",
    "    a. Inside the for loop, write an if-statement to determine if the loan_price is less than or equal to 500\n",
    "    b. If the loan_price is less than or equal to 500 then append that loan to the `inexpensive_loans` list.\n",
    "3. Print the list of inexpensive_loans.\n",
    "\"\"\"\n",
    "\n",
    "loans = [\n",
    "    {\n",
    "        \"loan_price\": 700,\n",
    "        \"remaining_months\": 9,\n",
    "        \"repayment_interval\": \"monthly\",\n",
    "        \"future_value\": 1000,\n",
    "    },\n",
    "    {\n",
    "        \"loan_price\": 500,\n",
    "        \"remaining_months\": 13,\n",
    "        \"repayment_interval\": \"bullet\",\n",
    "        \"future_value\": 1000,\n",
    "    },\n",
    "    {\n",
    "        \"loan_price\": 200,\n",
    "        \"remaining_months\": 16,\n",
    "        \"repayment_interval\": \"bullet\",\n",
    "        \"future_value\": 1000,\n",
    "    },\n",
    "    {\n",
    "        \"loan_price\": 900,\n",
    "        \"remaining_months\": 16,\n",
    "        \"repayment_interval\": \"bullet\",\n",
    "        \"future_value\": 1000,\n",
    "    },\n",
    "]\n",
    "\n",
    "# @TODO: Create an empty list called `inexpensive_loans`\n",
    "inexpensive_loans = []\n",
    "\n",
    "# @TODO: Loop through all the loans and append any that cost $500 or less to the `inexpensive_loans` list\n",
    "for loan in loans:\n",
    "    if loan[\"loan_price\"] <= 500:\n",
    "        inexpensive_loans.append(loan)\n",
    "\n",
    "\n",
    "# @TODO: Print the `inexpensive_loans` list\n",
    "print(\"The list is: \", inexpensive_loans)\n",
    "\n",
    "\n",
    "\"\"\"Part 5: Save the results.\n",
    "\n",
    "Output this list of inexpensive loans to a csv file\n",
    "    1. Use `with open` to open a new CSV file.\n",
    "        a. Create a `csvwriter` using the `csv` library.\n",
    "        b. Use the new csvwriter to write the header variable as the first row.\n",
    "        c. Use a for loop to iterate through each loan in `inexpensive_loans`.\n",
    "            i. Use the csvwriter to write the `loan.values()` to a row in the CSV file.\n",
    "\n",
    "    Hint: Refer to the official documentation for the csv library.\n",
    "    https://docs.python.org/3/library/csv.html#writer-objects\n",
    "\n",
    "\"\"\"\n",
    "\n",
    "# Set the output header\n",
    "header = [\"loan_price\", \"remaining_months\", \"repayment_interval\", \"future_value\"]\n",
    "\n",
    "# Set the output file path\n",
    "\n",
    "\n",
    "# @TODO: Use the csv library and `csv.writer` to write the header row\n",
    "# and each row of `loan.values()` from the `inexpensive_loans` list.\n",
    "import csv\n",
    "from pathlib import Path\n",
    "output_path = Path(\"inexpensive_loans.csv\")\n",
    "with open(output_path, \"w\", newline='') as csvfile:\n",
    "    csvwriter = csv.writer(csvfile, delimiter=',')\n",
    "    csvwriter.writerow(header)\n",
    "    for loan in inexpensive_loans:\n",
    "        csvwriter.writerow(loan.values())"
   ]
  }
 ],
 "metadata": {
  "interpreter": {
   "hash": "aee8b7b246df8f9039afb4144a1f6fd8d2ca17a180786b69acc140d282b71a49"
  },
  "kernelspec": {
   "display_name": "Python 3.10.4 64-bit",
   "language": "python",
   "name": "python3"
  },
  "language_info": {
   "codemirror_mode": {
    "name": "ipython",
    "version": 3
   },
   "file_extension": ".py",
   "mimetype": "text/x-python",
   "name": "python",
   "nbconvert_exporter": "python",
   "pygments_lexer": "ipython3",
   "version": "3.10.4"
  },
  "orig_nbformat": 4
 },
 "nbformat": 4,
 "nbformat_minor": 2
}
